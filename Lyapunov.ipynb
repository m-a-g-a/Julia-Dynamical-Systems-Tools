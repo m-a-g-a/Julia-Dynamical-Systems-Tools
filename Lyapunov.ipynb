{
 "cells": [
  {
   "cell_type": "code",
   "execution_count": null,
   "id": "51c18cc7",
   "metadata": {},
   "outputs": [],
   "source": [
    "using DynamicalSystems, MAT, SharedArrays, Plots, ControlSystems\n",
    "\n",
    "@inline @inbounds function nomedafuncao(u,v,t)\n",
    "\n",
    "#O MODELO MATEMÁTICO AQUI\n",
    "    \n",
    " return SVector{5}(du1, du2, du3, du4, du5); #mudar de acordo com o grau de liberdade do modelo, ou seja, qtde de vetores\n",
    "      \n",
    "end   \n",
    "\n",
    "#CONDIÇÕES INICIAIS\n",
    "      u0 = [0.0; 0.0; 0.0; 0.0; 0.0] #mudar de acordo com o grau de liberdade do modelo, ou seja, qtde de vetores\n",
    "      \n",
    "#INTERVALO DE VARIAÇÃ \n",
    "    as=-1.0:0.05:1.0;\n",
    "    \n",
    "   lambda=zeros(length(as),5);\n",
    "\n",
    "    for i=1:1:length(as)\n",
    "        pp1=[as[i]];\n",
    "        ds = ContinuousDynamicalSystem(nomedafuncao, u0, pp1) \n",
    "        lambda[i,:]=lyapunovs(ds, 5000, Ttr=2000)\n",
    "        #println(i)\n",
    "    end\n",
    "\n",
    "#  MATLAB files\n",
    " file = matopen(\"lyapunov.mat\", \"w\")\n",
    " write(file, \"lyap\",lambda)\n",
    " close(file)\n",
    "\n",
    " matwrite(\"lyapunov.mat\", \n",
    "    Dict(\n",
    " \t\"n1\" => collect(as),\n",
    " \t\"lyap\" => lambda,))"
   ]
  }
 ],
 "metadata": {
  "kernelspec": {
   "display_name": "Julia 1.4.2",
   "language": "julia",
   "name": "julia-1.4"
  },
  "language_info": {
   "file_extension": ".jl",
   "mimetype": "application/julia",
   "name": "julia",
   "version": "1.4.2"
  }
 },
 "nbformat": 4,
 "nbformat_minor": 5
}
